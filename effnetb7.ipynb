{
 "cells": [
  {
   "cell_type": "code",
   "execution_count": 1,
   "metadata": {
    "_cell_guid": "b1076dfc-b9ad-4769-8c92-a6c4dae69d19",
    "_uuid": "8f2839f25d086af736a60e9eeb907d3b93b6e0e5"
   },
   "outputs": [
    {
     "name": "stderr",
     "output_type": "stream",
     "text": [
      "Using TensorFlow backend.\n"
     ]
    }
   ],
   "source": [
    "import cv2\n",
    "import gc\n",
    "import sys\n",
    "import pandas as pd\n",
    "import os\n",
    "import matplotlib.pyplot as plt\n",
    "import numpy as np\n",
    "\n",
    "import tensorflow as tf\n",
    "from tensorflow import keras\n",
    "from keras import backend as K\n",
    "from keras.engine import Layer\n",
    "from keras.models import Sequential\n",
    "from keras.models import Model\n",
    "from keras.layers.core import Dense, Dropout, Activation, Flatten\n",
    "from keras.layers.convolutional import Conv2D, MaxPooling2D, ZeroPadding2D\n",
    "from keras.optimizers import SGD,RMSprop,adam\n",
    "from keras.models import model_from_json\n",
    "from keras.callbacks import ReduceLROnPlateau, EarlyStopping, ModelCheckpoint, Callback, LearningRateScheduler\n",
    "from keras.preprocessing.image import ImageDataGenerator\n",
    "from sklearn.metrics import classification_report,confusion_matrix\n",
    "from keras.layers import Input, BatchNormalization, Activation, Dense, Dropout, LeakyReLU, GlobalAveragePooling2D\n",
    "from keras import regularizers\n",
    "from keras.activations import relu, softmax, sigmoid, linear, elu\n",
    "from sklearn.metrics import cohen_kappa_score\n",
    "from keras.models import model_from_json\n",
    "\n",
    "from tqdm import tqdm_notebook as tqdm"
   ]
  },
  {
   "cell_type": "code",
   "execution_count": 2,
   "metadata": {
    "_cell_guid": "79c7e3d0-c299-4dcb-8224-4455121ee9b0",
    "_uuid": "d629ff2d2480ee46fbb7e2d37f6b5fab8052498a"
   },
   "outputs": [
    {
     "name": "stdout",
     "output_type": "stream",
     "text": [
      "2.1.0\n",
      "2.2.4-tf\n"
     ]
    }
   ],
   "source": [
    "print(tf.__version__)\n",
    "print(keras.__version__)"
   ]
  },
  {
   "cell_type": "code",
   "execution_count": 3,
   "metadata": {},
   "outputs": [],
   "source": [
    "sys.path.append(os.path.abspath('../input/effnet/efficientnet-master/'))\n",
    "# from efficientnet.keras import EfficientNetB1\n",
    "# from efficientnet.keras import EfficientNetB3\n",
    "# from efficientnet.keras import EfficientNetB5\n",
    "from efficientnet.keras import EfficientNetB7"
   ]
  },
  {
   "cell_type": "code",
   "execution_count": 4,
   "metadata": {},
   "outputs": [],
   "source": [
    "img_rows = 600\n",
    "img_cols = 600\n",
    "channels = 3\n",
    "batch = 4\n",
    "# batch = 16\n",
    "\n",
    "# img_rows = 240\n",
    "# img_cols = 240\n",
    "# channels = 3\n",
    "# # batch = 32\n",
    "# batch = 8"
   ]
  },
  {
   "cell_type": "code",
   "execution_count": 5,
   "metadata": {},
   "outputs": [],
   "source": [
    "# input_tensor = Input(shape=(img_rows, img_cols, channels))\n",
    "# # model = EfficientNetB1(include_top = False, weights = 'imagenet', input_tensor=input_tensor)\n",
    "# # model = EfficientNetB3(include_top = False, weights = 'imagenet', input_tensor=input_tensor)\n",
    "# model = EfficientNetB7(include_top = False, weights = 'imagenet', input_tensor=input_tensor)\n",
    "# # model.summary()\n"
   ]
  },
  {
   "cell_type": "code",
   "execution_count": 6,
   "metadata": {},
   "outputs": [],
   "source": [
    "# # data = pd.read_csv('../input/aptos19/data19.csv')\n",
    "# # data = pd.read_csv('../input/aptos19no-rot/data19.csv')\n",
    "# data = pd.read_csv('../input/aptos2019-blindness-detection/train.csv')\n",
    "\n",
    "# # data['id_code'] = data['id_code'] + \".png\"\n",
    "# data = data[['id_code','diagnosis']]\n",
    "# # data.rename(columns = {'image':'id_code', 'level':'diagnosis'}, inplace = True) \n",
    "# data.head()"
   ]
  },
  {
   "cell_type": "code",
   "execution_count": 7,
   "metadata": {},
   "outputs": [
    {
     "data": {
      "text/html": [
       "<div>\n",
       "<style scoped>\n",
       "    .dataframe tbody tr th:only-of-type {\n",
       "        vertical-align: middle;\n",
       "    }\n",
       "\n",
       "    .dataframe tbody tr th {\n",
       "        vertical-align: top;\n",
       "    }\n",
       "\n",
       "    .dataframe thead th {\n",
       "        text-align: right;\n",
       "    }\n",
       "</style>\n",
       "<table border=\"1\" class=\"dataframe\">\n",
       "  <thead>\n",
       "    <tr style=\"text-align: right;\">\n",
       "      <th></th>\n",
       "      <th>id_code</th>\n",
       "      <th>diagnosis</th>\n",
       "    </tr>\n",
       "  </thead>\n",
       "  <tbody>\n",
       "    <tr>\n",
       "      <th>0</th>\n",
       "      <td>000c1434d8d7.png</td>\n",
       "      <td>2</td>\n",
       "    </tr>\n",
       "    <tr>\n",
       "      <th>1</th>\n",
       "      <td>001639a390f0.png</td>\n",
       "      <td>4</td>\n",
       "    </tr>\n",
       "    <tr>\n",
       "      <th>2</th>\n",
       "      <td>0024cdab0c1e.png</td>\n",
       "      <td>1</td>\n",
       "    </tr>\n",
       "    <tr>\n",
       "      <th>3</th>\n",
       "      <td>002c21358ce6.png</td>\n",
       "      <td>0</td>\n",
       "    </tr>\n",
       "    <tr>\n",
       "      <th>4</th>\n",
       "      <td>005b95c28852.png</td>\n",
       "      <td>0</td>\n",
       "    </tr>\n",
       "  </tbody>\n",
       "</table>\n",
       "</div>"
      ],
      "text/plain": [
       "            id_code  diagnosis\n",
       "0  000c1434d8d7.png          2\n",
       "1  001639a390f0.png          4\n",
       "2  0024cdab0c1e.png          1\n",
       "3  002c21358ce6.png          0\n",
       "4  005b95c28852.png          0"
      ]
     },
     "execution_count": 7,
     "metadata": {},
     "output_type": "execute_result"
    }
   ],
   "source": [
    "data19 = pd.read_csv('../input/aptosdatacsv/trainLabels19.csv')\n",
    "data19['id_code'] = data19['id_code'] + \".png\"\n",
    "data19.head()"
   ]
  },
  {
   "cell_type": "code",
   "execution_count": 8,
   "metadata": {},
   "outputs": [
    {
     "data": {
      "text/html": [
       "<div>\n",
       "<style scoped>\n",
       "    .dataframe tbody tr th:only-of-type {\n",
       "        vertical-align: middle;\n",
       "    }\n",
       "\n",
       "    .dataframe tbody tr th {\n",
       "        vertical-align: top;\n",
       "    }\n",
       "\n",
       "    .dataframe thead th {\n",
       "        text-align: right;\n",
       "    }\n",
       "</style>\n",
       "<table border=\"1\" class=\"dataframe\">\n",
       "  <thead>\n",
       "    <tr style=\"text-align: right;\">\n",
       "      <th></th>\n",
       "      <th>id_code</th>\n",
       "      <th>diagnosis</th>\n",
       "    </tr>\n",
       "  </thead>\n",
       "  <tbody>\n",
       "    <tr>\n",
       "      <th>0</th>\n",
       "      <td>10_left.jpg</td>\n",
       "      <td>0</td>\n",
       "    </tr>\n",
       "    <tr>\n",
       "      <th>1</th>\n",
       "      <td>10_right.jpg</td>\n",
       "      <td>0</td>\n",
       "    </tr>\n",
       "    <tr>\n",
       "      <th>2</th>\n",
       "      <td>13_left.jpg</td>\n",
       "      <td>0</td>\n",
       "    </tr>\n",
       "    <tr>\n",
       "      <th>3</th>\n",
       "      <td>13_right.jpg</td>\n",
       "      <td>0</td>\n",
       "    </tr>\n",
       "    <tr>\n",
       "      <th>4</th>\n",
       "      <td>15_left.jpg</td>\n",
       "      <td>1</td>\n",
       "    </tr>\n",
       "  </tbody>\n",
       "</table>\n",
       "</div>"
      ],
      "text/plain": [
       "        id_code  diagnosis\n",
       "0   10_left.jpg          0\n",
       "1  10_right.jpg          0\n",
       "2   13_left.jpg          0\n",
       "3  13_right.jpg          0\n",
       "4   15_left.jpg          1"
      ]
     },
     "execution_count": 8,
     "metadata": {},
     "output_type": "execute_result"
    }
   ],
   "source": [
    "data15 = pd.read_csv('../input/aptosdatacsv/trainLabels15.csv')\n",
    "data15.rename(columns = {'image':'id_code', 'level':'diagnosis'}, inplace = True) \n",
    "data15['id_code'] = data15['id_code'] + \".jpg\"\n",
    "data15.head()"
   ]
  },
  {
   "cell_type": "code",
   "execution_count": 9,
   "metadata": {},
   "outputs": [
    {
     "data": {
      "text/html": [
       "<div>\n",
       "<style scoped>\n",
       "    .dataframe tbody tr th:only-of-type {\n",
       "        vertical-align: middle;\n",
       "    }\n",
       "\n",
       "    .dataframe tbody tr th {\n",
       "        vertical-align: top;\n",
       "    }\n",
       "\n",
       "    .dataframe thead th {\n",
       "        text-align: right;\n",
       "    }\n",
       "</style>\n",
       "<table border=\"1\" class=\"dataframe\">\n",
       "  <thead>\n",
       "    <tr style=\"text-align: right;\">\n",
       "      <th></th>\n",
       "      <th>id_code</th>\n",
       "      <th>diagnosis</th>\n",
       "    </tr>\n",
       "  </thead>\n",
       "  <tbody>\n",
       "    <tr>\n",
       "      <th>0</th>\n",
       "      <td>000c1434d8d7.png</td>\n",
       "      <td>2</td>\n",
       "    </tr>\n",
       "    <tr>\n",
       "      <th>1</th>\n",
       "      <td>001639a390f0.png</td>\n",
       "      <td>4</td>\n",
       "    </tr>\n",
       "    <tr>\n",
       "      <th>2</th>\n",
       "      <td>0024cdab0c1e.png</td>\n",
       "      <td>1</td>\n",
       "    </tr>\n",
       "    <tr>\n",
       "      <th>3</th>\n",
       "      <td>002c21358ce6.png</td>\n",
       "      <td>0</td>\n",
       "    </tr>\n",
       "    <tr>\n",
       "      <th>4</th>\n",
       "      <td>005b95c28852.png</td>\n",
       "      <td>0</td>\n",
       "    </tr>\n",
       "  </tbody>\n",
       "</table>\n",
       "</div>"
      ],
      "text/plain": [
       "            id_code  diagnosis\n",
       "0  000c1434d8d7.png          2\n",
       "1  001639a390f0.png          4\n",
       "2  0024cdab0c1e.png          1\n",
       "3  002c21358ce6.png          0\n",
       "4  005b95c28852.png          0"
      ]
     },
     "execution_count": 9,
     "metadata": {},
     "output_type": "execute_result"
    }
   ],
   "source": [
    "data = pd.concat([data19, data15])\n",
    "data.head()"
   ]
  },
  {
   "cell_type": "code",
   "execution_count": 10,
   "metadata": {},
   "outputs": [
    {
     "name": "stdout",
     "output_type": "stream",
     "text": [
      "38788\n"
     ]
    }
   ],
   "source": [
    "print(len(data))"
   ]
  },
  {
   "cell_type": "code",
   "execution_count": 11,
   "metadata": {},
   "outputs": [],
   "source": [
    "from sklearn.model_selection import train_test_split\n",
    "X_train, X_val, y_train, y_val = train_test_split(data['id_code'].values, data['diagnosis'].values, test_size=0.2, random_state=24)"
   ]
  },
  {
   "cell_type": "code",
   "execution_count": 12,
   "metadata": {},
   "outputs": [
    {
     "data": {
      "text/html": [
       "<div>\n",
       "<style scoped>\n",
       "    .dataframe tbody tr th:only-of-type {\n",
       "        vertical-align: middle;\n",
       "    }\n",
       "\n",
       "    .dataframe tbody tr th {\n",
       "        vertical-align: top;\n",
       "    }\n",
       "\n",
       "    .dataframe thead th {\n",
       "        text-align: right;\n",
       "    }\n",
       "</style>\n",
       "<table border=\"1\" class=\"dataframe\">\n",
       "  <thead>\n",
       "    <tr style=\"text-align: right;\">\n",
       "      <th></th>\n",
       "      <th>id_code</th>\n",
       "      <th>diagnosis</th>\n",
       "    </tr>\n",
       "  </thead>\n",
       "  <tbody>\n",
       "    <tr>\n",
       "      <th>0</th>\n",
       "      <td>31428_right.jpg</td>\n",
       "      <td>0</td>\n",
       "    </tr>\n",
       "    <tr>\n",
       "      <th>1</th>\n",
       "      <td>5070_left.jpg</td>\n",
       "      <td>0</td>\n",
       "    </tr>\n",
       "    <tr>\n",
       "      <th>2</th>\n",
       "      <td>41579_right.jpg</td>\n",
       "      <td>0</td>\n",
       "    </tr>\n",
       "    <tr>\n",
       "      <th>3</th>\n",
       "      <td>10260_right.jpg</td>\n",
       "      <td>0</td>\n",
       "    </tr>\n",
       "    <tr>\n",
       "      <th>4</th>\n",
       "      <td>28091_right.jpg</td>\n",
       "      <td>0</td>\n",
       "    </tr>\n",
       "  </tbody>\n",
       "</table>\n",
       "</div>"
      ],
      "text/plain": [
       "           id_code  diagnosis\n",
       "0  31428_right.jpg          0\n",
       "1    5070_left.jpg          0\n",
       "2  41579_right.jpg          0\n",
       "3  10260_right.jpg          0\n",
       "4  28091_right.jpg          0"
      ]
     },
     "execution_count": 12,
     "metadata": {},
     "output_type": "execute_result"
    }
   ],
   "source": [
    "train = pd.DataFrame({'id_code':X_train,'diagnosis':y_train.astype('int')})\n",
    "train.head(5)"
   ]
  },
  {
   "cell_type": "code",
   "execution_count": 13,
   "metadata": {},
   "outputs": [
    {
     "data": {
      "text/html": [
       "<div>\n",
       "<style scoped>\n",
       "    .dataframe tbody tr th:only-of-type {\n",
       "        vertical-align: middle;\n",
       "    }\n",
       "\n",
       "    .dataframe tbody tr th {\n",
       "        vertical-align: top;\n",
       "    }\n",
       "\n",
       "    .dataframe thead th {\n",
       "        text-align: right;\n",
       "    }\n",
       "</style>\n",
       "<table border=\"1\" class=\"dataframe\">\n",
       "  <thead>\n",
       "    <tr style=\"text-align: right;\">\n",
       "      <th></th>\n",
       "      <th>id_code</th>\n",
       "      <th>diagnosis</th>\n",
       "    </tr>\n",
       "  </thead>\n",
       "  <tbody>\n",
       "    <tr>\n",
       "      <th>0</th>\n",
       "      <td>11943_right.jpg</td>\n",
       "      <td>0</td>\n",
       "    </tr>\n",
       "    <tr>\n",
       "      <th>1</th>\n",
       "      <td>42857_right.jpg</td>\n",
       "      <td>0</td>\n",
       "    </tr>\n",
       "    <tr>\n",
       "      <th>2</th>\n",
       "      <td>263_right.jpg</td>\n",
       "      <td>0</td>\n",
       "    </tr>\n",
       "    <tr>\n",
       "      <th>3</th>\n",
       "      <td>3160_right.jpg</td>\n",
       "      <td>0</td>\n",
       "    </tr>\n",
       "    <tr>\n",
       "      <th>4</th>\n",
       "      <td>38570_right.jpg</td>\n",
       "      <td>0</td>\n",
       "    </tr>\n",
       "  </tbody>\n",
       "</table>\n",
       "</div>"
      ],
      "text/plain": [
       "           id_code  diagnosis\n",
       "0  11943_right.jpg          0\n",
       "1  42857_right.jpg          0\n",
       "2    263_right.jpg          0\n",
       "3   3160_right.jpg          0\n",
       "4  38570_right.jpg          0"
      ]
     },
     "execution_count": 13,
     "metadata": {},
     "output_type": "execute_result"
    }
   ],
   "source": [
    "val = pd.DataFrame({'id_code':X_val,'diagnosis':y_val.astype('int')})\n",
    "val.head(5)"
   ]
  },
  {
   "cell_type": "code",
   "execution_count": 14,
   "metadata": {},
   "outputs": [
    {
     "name": "stdout",
     "output_type": "stream",
     "text": [
      "7758\n",
      "31030\n"
     ]
    }
   ],
   "source": [
    "# len(data)\n",
    "# print(len(os.listdir('../input/aptos19/data19/data19/')))\n",
    "print(len(val))\n",
    "print(len(train))"
   ]
  },
  {
   "cell_type": "code",
   "execution_count": 15,
   "metadata": {},
   "outputs": [
    {
     "data": {
      "text/html": [
       "<div>\n",
       "<style scoped>\n",
       "    .dataframe tbody tr th:only-of-type {\n",
       "        vertical-align: middle;\n",
       "    }\n",
       "\n",
       "    .dataframe tbody tr th {\n",
       "        vertical-align: top;\n",
       "    }\n",
       "\n",
       "    .dataframe thead tr th {\n",
       "        text-align: left;\n",
       "    }\n",
       "\n",
       "    .dataframe thead tr:last-of-type th {\n",
       "        text-align: right;\n",
       "    }\n",
       "</style>\n",
       "<table border=\"1\" class=\"dataframe\">\n",
       "  <thead>\n",
       "    <tr>\n",
       "      <th></th>\n",
       "      <th>id_code</th>\n",
       "    </tr>\n",
       "    <tr>\n",
       "      <th></th>\n",
       "      <th>count</th>\n",
       "    </tr>\n",
       "    <tr>\n",
       "      <th>diagnosis</th>\n",
       "      <th></th>\n",
       "    </tr>\n",
       "  </thead>\n",
       "  <tbody>\n",
       "    <tr>\n",
       "      <th>0</th>\n",
       "      <td>22053</td>\n",
       "    </tr>\n",
       "    <tr>\n",
       "      <th>1</th>\n",
       "      <td>2273</td>\n",
       "    </tr>\n",
       "    <tr>\n",
       "      <th>2</th>\n",
       "      <td>5027</td>\n",
       "    </tr>\n",
       "    <tr>\n",
       "      <th>3</th>\n",
       "      <td>846</td>\n",
       "    </tr>\n",
       "    <tr>\n",
       "      <th>4</th>\n",
       "      <td>831</td>\n",
       "    </tr>\n",
       "  </tbody>\n",
       "</table>\n",
       "</div>"
      ],
      "text/plain": [
       "          id_code\n",
       "            count\n",
       "diagnosis        \n",
       "0           22053\n",
       "1            2273\n",
       "2            5027\n",
       "3             846\n",
       "4             831"
      ]
     },
     "execution_count": 15,
     "metadata": {},
     "output_type": "execute_result"
    }
   ],
   "source": [
    "train.groupby(['diagnosis']).agg(['count'])"
   ]
  },
  {
   "cell_type": "code",
   "execution_count": 16,
   "metadata": {},
   "outputs": [
    {
     "data": {
      "text/html": [
       "<div>\n",
       "<style scoped>\n",
       "    .dataframe tbody tr th:only-of-type {\n",
       "        vertical-align: middle;\n",
       "    }\n",
       "\n",
       "    .dataframe tbody tr th {\n",
       "        vertical-align: top;\n",
       "    }\n",
       "\n",
       "    .dataframe thead tr th {\n",
       "        text-align: left;\n",
       "    }\n",
       "\n",
       "    .dataframe thead tr:last-of-type th {\n",
       "        text-align: right;\n",
       "    }\n",
       "</style>\n",
       "<table border=\"1\" class=\"dataframe\">\n",
       "  <thead>\n",
       "    <tr>\n",
       "      <th></th>\n",
       "      <th>id_code</th>\n",
       "    </tr>\n",
       "    <tr>\n",
       "      <th></th>\n",
       "      <th>count</th>\n",
       "    </tr>\n",
       "    <tr>\n",
       "      <th>diagnosis</th>\n",
       "      <th></th>\n",
       "    </tr>\n",
       "  </thead>\n",
       "  <tbody>\n",
       "    <tr>\n",
       "      <th>0</th>\n",
       "      <td>5562</td>\n",
       "    </tr>\n",
       "    <tr>\n",
       "      <th>1</th>\n",
       "      <td>540</td>\n",
       "    </tr>\n",
       "    <tr>\n",
       "      <th>2</th>\n",
       "      <td>1264</td>\n",
       "    </tr>\n",
       "    <tr>\n",
       "      <th>3</th>\n",
       "      <td>220</td>\n",
       "    </tr>\n",
       "    <tr>\n",
       "      <th>4</th>\n",
       "      <td>172</td>\n",
       "    </tr>\n",
       "  </tbody>\n",
       "</table>\n",
       "</div>"
      ],
      "text/plain": [
       "          id_code\n",
       "            count\n",
       "diagnosis        \n",
       "0            5562\n",
       "1             540\n",
       "2            1264\n",
       "3             220\n",
       "4             172"
      ]
     },
     "execution_count": 16,
     "metadata": {},
     "output_type": "execute_result"
    }
   ],
   "source": [
    "val.groupby(['diagnosis']).agg(['count'])"
   ]
  },
  {
   "cell_type": "code",
   "execution_count": 17,
   "metadata": {},
   "outputs": [],
   "source": [
    "def crop_image_from_gray(img, tol=7):\n",
    "    \"\"\"\n",
    "    Applies masks to the orignal image and \n",
    "    returns the a preprocessed image with \n",
    "    3 channels\n",
    "    \"\"\"\n",
    "    # If for some reason we only have two channels\n",
    "    if img.ndim == 2:\n",
    "        mask = img > tol\n",
    "        return img[np.ix_(mask.any(1),mask.any(0))]\n",
    "    # If we have a normal RGB images\n",
    "    elif img.ndim == 3:\n",
    "        gray_img = cv2.cvtColor(img, cv2.COLOR_RGB2GRAY)\n",
    "        mask = gray_img > tol\n",
    "        \n",
    "        check_shape = img[:,:,0][np.ix_(mask.any(1),mask.any(0))].shape[0]\n",
    "        if (check_shape == 0): # image is too dark so that we crop out everything,\n",
    "            return img # return original image\n",
    "        else:\n",
    "            img1=img[:,:,0][np.ix_(mask.any(1),mask.any(0))]\n",
    "            img2=img[:,:,1][np.ix_(mask.any(1),mask.any(0))]\n",
    "            img3=img[:,:,2][np.ix_(mask.any(1),mask.any(0))]\n",
    "            img = np.stack([img1,img2,img3],axis=-1)\n",
    "        return img\n",
    "    \n",
    "def preprocess(img, sigmaX=10):\n",
    "    img = cv2.cvtColor(img, cv2.COLOR_BGR2RGB)\n",
    "    img = crop_image_from_gray(img)\n",
    "    img = cv2.resize(img, (img_rows, img_cols))\n",
    "#     img = cv2.addWeighted (img,4, cv2.GaussianBlur(img, (0,0) ,10), -4, 128)\n",
    "    return img"
   ]
  },
  {
   "cell_type": "code",
   "execution_count": 18,
   "metadata": {},
   "outputs": [],
   "source": [
    "def rotate(img, angle):\n",
    "    cols = img_cols\n",
    "    rows = img_rows\n",
    "    M1 = cv2.getRotationMatrix2D((cols/2,rows/2),angle,1)\n",
    "    rot = cv2.warpAffine(img,M1,(cols,rows))    \n",
    "    return rot\n",
    "\n",
    "def flips(img):\n",
    "    flip1 = cv2.flip(img, 1)\n",
    "    flip2 = cv2.flip(img, -1)\n",
    "    flip3 = cv2.flip(img, 0)\n",
    "    return flip1, flip2, flip3"
   ]
  },
  {
   "cell_type": "code",
   "execution_count": 27,
   "metadata": {},
   "outputs": [
    {
     "name": "stdout",
     "output_type": "stream",
     "text": [
      "Found 31030 validated image filenames.\n",
      "Found 7758 validated image filenames.\n"
     ]
    }
   ],
   "source": [
    "datagen = ImageDataGenerator(preprocessing_function=None, rescale=1/255.)\n",
    "\n",
    "# # # train_generator = datagen.flow_from_dataframe(train, \n",
    "# # #                                                     x_col='id_code', \n",
    "# # #                                                     y_col='diagnosis',\n",
    "# # #                                                     directory = '../input/aptos19no-rot/data19/data19/',\n",
    "# # #                                                     target_size=(img_rows, img_cols),\n",
    "# # #                                                     batch_size=batch,\n",
    "# # #                                                     class_mode='categorical', \n",
    "# # #                                                     subset='training')\n",
    "\n",
    "# # train_generator = datagen.flow_from_dataframe(df, \n",
    "# #                                                     x_col='id_code', \n",
    "# #                                                     y_col='diagnosis',\n",
    "# #                                                     directory = './data19/',\n",
    "# #                                                     target_size=(img_rows, img_cols),\n",
    "# #                                                     batch_size=batch,\n",
    "# #                                                     class_mode='categorical', \n",
    "# #                                                     subset='training')\n",
    "\n",
    "# # val_generator = datagen.flow_from_dataframe(val, \n",
    "# #                                                 x_col='id_code', \n",
    "# #                                                 y_col='diagnosis',\n",
    "# #                                                 directory = '../input/aptos2019-blindness-detection/train_images/',\n",
    "# #                                                 target_size=(img_rows, img_cols),\n",
    "# #                                                 batch_size=batch,\n",
    "# #                                                 class_mode='categorical', \n",
    "# #                                                 subset='training')\n",
    "\n",
    "train_generator = datagen.flow_from_dataframe(train, \n",
    "                                                    x_col='id_code', \n",
    "                                                    y_col='diagnosis',\n",
    "                                                    directory = '../input/aptos600all/aptos600all/',\n",
    "                                                    target_size=(img_rows, img_cols),\n",
    "                                                    batch_size=batch,\n",
    "                                                    class_mode='raw', \n",
    "                                                    subset='training')\n",
    "\n",
    "val_generator = datagen.flow_from_dataframe(val, \n",
    "                                                x_col='id_code', \n",
    "                                                y_col='diagnosis',\n",
    "                                                directory = '../input/aptos600all/aptos600all/',\n",
    "                                                target_size=(img_rows, img_cols),\n",
    "                                                batch_size=batch,\n",
    "                                                class_mode='raw', \n",
    "                                                subset='training')\n",
    "\n",
    "# train_generator = datagen.flow_from_dataframe(df, \n",
    "#                                                     x_col='id_code', \n",
    "#                                                     y_col='diagnosis',\n",
    "#                                                     directory = './data1915/',\n",
    "#                                                     target_size=(img_rows, img_cols),\n",
    "#                                                     batch_size=batch,\n",
    "#                                                     class_mode='categorical', \n",
    "#                                                     subset='training')\n",
    "\n",
    "# val_generator = datagen.flow_from_dataframe(val, \n",
    "#                                                 x_col='id_code', \n",
    "#                                                 y_col='diagnosis',\n",
    "#                                                 directory = '../input/aptos600all/aptos600all/',\n",
    "#                                                 target_size=(img_rows, img_cols),\n",
    "#                                                 batch_size=batch,\n",
    "#                                                 class_mode='categorical', \n",
    "#                                                 subset='training')"
   ]
  },
  {
   "cell_type": "code",
   "execution_count": 28,
   "metadata": {},
   "outputs": [],
   "source": [
    "# del data\n",
    "# gc.collect()\n",
    "# del train\n",
    "# gc.collect()"
   ]
  },
  {
   "cell_type": "code",
   "execution_count": 29,
   "metadata": {},
   "outputs": [
    {
     "name": "stdout",
     "output_type": "stream",
     "text": [
      "Loaded model from disk\n"
     ]
    }
   ],
   "source": [
    "from keras.optimizers import Adam\n",
    "\n",
    "# input_tensor = Input(shape=(img_rows, img_cols, channels))\n",
    "# # model = EfficientNetB1(include_top = False, weights = 'imagenet', input_tensor=input_tensor)\n",
    "# # model = EfficientNetB3(include_top = False, weights = 'imagenet', input_tensor=input_tensor)\n",
    "# model = EfficientNetB5(include_top = False, weights = 'imagenet', input_tensor=input_tensor)\n",
    "# model = EfficientNetB7(include_top = False, weights = 'imagenet', input_tensor=input_tensor)\n",
    "\n",
    "# x = model.output\n",
    "# x = GlobalAveragePooling2D()(x)\n",
    "# x = Dropout(0.3)(x)\n",
    "# x = Dense(1024, activation=relu)(x)\n",
    "# x = Dropout(0.2)(x)\n",
    "# x = Dense(512, activation=relu)(x)\n",
    "# # x = Dropout(0.2)(x)\n",
    "# x = BatchNormalization()(x)\n",
    "# # outputs = Dense(5, activation='softmax')(x)\n",
    "# outputs = Dense(1, activation='linear') (x)\n",
    "\n",
    "\n",
    "# model = Model(inputs=model.input, outputs=outputs)\n",
    "\n",
    "# json_file = open('../input/b7weightshalftrain/model_b3.json', 'r')\n",
    "json_file = open('../input/b7weights14epochs/model_b7.json', 'r')\n",
    "loaded_model_json = json_file.read()\n",
    "json_file.close()\n",
    "model = model_from_json(loaded_model_json)\n",
    "\n",
    "# loaded_model.load_weights('../input/b5halftrain2/weights_kappa_b5 1.h5')\n",
    "# loaded_model.load_weights('../input/b5halftrain2/weights_best_val_b5 1.h5')\n",
    "# loaded_model.load_weights('../input/b5weights/weights_best_val_b5 2.h5')\n",
    "# loaded_model.load_weights('../input/b5weights/weights_kappa_b5 2.h5')\n",
    "# model.load_weights('../input/b7weightshalftrain/weights_best_b7.h5')\n",
    "model.load_weights('../input/b7weights14epochs/weights_kappa_b7.h5')\n",
    "print(\"Loaded model from disk\")\n",
    "\n",
    "model.compile(loss='mse',optimizer=Adam(lr=0.0001))"
   ]
  },
  {
   "cell_type": "code",
   "execution_count": 30,
   "metadata": {},
   "outputs": [],
   "source": [
    "def get_preds_and_labels(model, generator):\n",
    "    \"\"\"\n",
    "    Get predictions and labels from the generator\n",
    "    \n",
    "    :param model: A Keras model object\n",
    "    :param generator: A Keras ImageDataGenerator object\n",
    "    \n",
    "    :return: A tuple with two Numpy Arrays. One containing the predictions\n",
    "    and one containing the labels\n",
    "    \"\"\"\n",
    "    preds = []\n",
    "    labels = []\n",
    "    for _ in range(int(np.ceil(generator.samples / batch))):\n",
    "        x, y = next(generator)\n",
    "        preds.append(model.predict(x))\n",
    "        labels.append(y)\n",
    "    # Flatten list of numpy arrays\n",
    "    return np.concatenate(preds).ravel(), np.concatenate(labels).ravel()\n",
    "\n",
    "class Metrics(Callback):\n",
    "    \"\"\"\n",
    "    A custom Keras callback for saving the best model\n",
    "    according to the Quadratic Weighted Kappa (QWK) metric\n",
    "    \"\"\"\n",
    "    def on_train_begin(self, logs={}):\n",
    "        \"\"\"\n",
    "        Initialize list of QWK scores on validation data\n",
    "        \"\"\"\n",
    "        self.val_kappas = []\n",
    "\n",
    "    def on_epoch_end(self, epoch, logs={}):\n",
    "        \"\"\"\n",
    "        Gets QWK score on the validation data\n",
    "        \n",
    "        :param epoch: The current epoch number\n",
    "        \"\"\"\n",
    "        # Get predictions and convert to integers\n",
    "        y_pred, labels = get_preds_and_labels(model, val_generator)\n",
    "        y_pred = np.rint(y_pred).astype(np.uint8).clip(0, 4)\n",
    "        # We can use sklearns implementation of QWK straight out of the box\n",
    "        # as long as we specify weights as 'quadratic'\n",
    "        _val_kappa = cohen_kappa_score(labels, y_pred, weights='quadratic')\n",
    "        self.val_kappas.append(_val_kappa)\n",
    "        print(f\"val_kappa: {round(_val_kappa, 4)}\")\n",
    "        if _val_kappa == max(self.val_kappas):\n",
    "            print(\"Validation Kappa has improved. Saving model.\")\n",
    "            self.model.save_weights(\"./weights_kappa_b7.h5\")\n",
    "        return\n",
    "\n",
    "# For tracking Quadratic Weighted Kappa score\n",
    "kappa_metrics = Metrics()\n",
    "\n",
    "# Loss is calculated using categorical cross entropy\n",
    "# ReducedLR = ReduceLROnPlateau(monitor='val_loss', factor=0.1, patience=3, verbose=1, mode='auto', min_lr=5*10**-7)\n",
    "def schedule(epoch, lr):\n",
    "    if epoch <= 4:\n",
    "        lr = 0.000001\n",
    "    elif epoch > 4 and epoch <= 7:\n",
    "        lr = 0.000001\n",
    "    elif epoch > 7:\n",
    "        lr = 0.0000005\n",
    "#     else:\n",
    "#         lr = 1e-6\n",
    "    return lr\n",
    "LRS = LearningRateScheduler(schedule, verbose=1)\n",
    "early_stop = EarlyStopping(monitor='val_loss', patience=7, verbose=1, mode='auto')\n",
    "filepath=\"./weights_best_b7.h5\"\n",
    "# filepath=\"./weights_best_b1.h5\"\n",
    "checkpoint = ModelCheckpoint(filepath, monitor='val_loss', verbose=1, save_best_only=True, mode='min')\n",
    "model.compile(loss='mse', optimizer = adam(lr=0.00005), metrics = ['accuracy'])"
   ]
  },
  {
   "cell_type": "code",
   "execution_count": 31,
   "metadata": {},
   "outputs": [
    {
     "name": "stdout",
     "output_type": "stream",
     "text": [
      "Epoch 1/5\n",
      "\n",
      "Epoch 00001: LearningRateScheduler setting learning rate to 1e-06.\n",
      "3878/3878 [==============================] - 3666s 945ms/step - loss: 0.2556 - accuracy: 0.7417 - val_loss: 0.1976 - val_accuracy: 0.7937\n",
      "\n",
      "Epoch 00001: val_loss improved from inf to 0.19756, saving model to ./weights_best_b7.h5\n",
      "val_kappa: 0.7937\n",
      "Validation Kappa has improved. Saving model.\n",
      "Epoch 2/5\n",
      "\n",
      "Epoch 00002: LearningRateScheduler setting learning rate to 1e-06.\n",
      "3878/3878 [==============================] - 3499s 902ms/step - loss: 0.2477 - accuracy: 0.7499 - val_loss: 0.9882 - val_accuracy: 0.7996\n",
      "\n",
      "Epoch 00002: val_loss did not improve from 0.19756\n",
      "val_kappa: 0.7936\n",
      "Epoch 3/5\n",
      "\n",
      "Epoch 00003: LearningRateScheduler setting learning rate to 1e-06.\n",
      "3878/3878 [==============================] - 3489s 900ms/step - loss: 0.2498 - accuracy: 0.7512 - val_loss: 0.0641 - val_accuracy: 0.7982\n",
      "\n",
      "Epoch 00003: val_loss improved from 0.19756 to 0.06415, saving model to ./weights_best_b7.h5\n",
      "val_kappa: 0.7938\n",
      "Validation Kappa has improved. Saving model.\n",
      "Epoch 4/5\n",
      "\n",
      "Epoch 00004: LearningRateScheduler setting learning rate to 1e-06.\n",
      "3878/3878 [==============================] - 3498s 902ms/step - loss: 0.2456 - accuracy: 0.7518 - val_loss: 0.0921 - val_accuracy: 0.7981\n",
      "\n",
      "Epoch 00004: val_loss did not improve from 0.06415\n",
      "val_kappa: 0.7926\n",
      "Epoch 5/5\n",
      "\n",
      "Epoch 00005: LearningRateScheduler setting learning rate to 1e-06.\n",
      "3878/3878 [==============================] - 3486s 899ms/step - loss: 0.2431 - accuracy: 0.7494 - val_loss: 0.0580 - val_accuracy: 0.7987\n",
      "\n",
      "Epoch 00005: val_loss improved from 0.06415 to 0.05801, saving model to ./weights_best_b7.h5\n",
      "val_kappa: 0.7923\n"
     ]
    }
   ],
   "source": [
    "# Begin training\n",
    "hist = model.fit_generator(train_generator,\n",
    "                    steps_per_epoch=train_generator.samples // batch,\n",
    "                    epochs=5,\n",
    "                    validation_data=val_generator,\n",
    "                    validation_steps = val_generator.samples // batch,\n",
    "                    callbacks=[early_stop,LRS, checkpoint, kappa_metrics],\n",
    "                    shuffle = True)"
   ]
  },
  {
   "cell_type": "code",
   "execution_count": 32,
   "metadata": {
    "scrolled": true
   },
   "outputs": [
    {
     "data": {
      "text/plain": [
       "<matplotlib.legend.Legend at 0x7f3b55057390>"
      ]
     },
     "execution_count": 32,
     "metadata": {},
     "output_type": "execute_result"
    },
    {
     "data": {
      "image/png": "[encoded data removed]",
      "text/plain": [
       "<Figure size 576x576 with 1 Axes>"
      ]
     },
     "metadata": {
      "needs_background": "light"
     },
     "output_type": "display_data"
    }
   ],
   "source": [
    "# visualizing losses and accuracy\n",
    "train_loss = hist.history['loss']\n",
    "val_loss = hist.history['val_loss']\n",
    "\n",
    "plt.figure(figsize=(8, 8))\n",
    "plt.title(\"Learning curve\")\n",
    "plt.plot(hist.history[\"loss\"], label=\"loss\")\n",
    "plt.plot(hist.history[\"val_loss\"], label=\"val_loss\")\n",
    "plt.plot( np.argmin(hist.history[\"val_loss\"]), np.min(hist.history[\"val_loss\"]), marker=\"x\", color=\"r\", label=\"best model\")\n",
    "plt.xlabel(\"Epochs\")\n",
    "plt.ylabel(\"loss\")\n",
    "plt.legend()"
   ]
  },
  {
   "cell_type": "code",
   "execution_count": 34,
   "metadata": {},
   "outputs": [
    {
     "name": "stdout",
     "output_type": "stream",
     "text": [
      "Saved model to disk\n"
     ]
    }
   ],
   "source": [
    "# Save model and weights\n",
    "model_json = model.to_json()\n",
    "with open(\"./model_b7.json\", \"w\") as json_file:\n",
    "    json_file.write(model_json)\n",
    "\n",
    "# Serialize weights to H5\n",
    "model.save_weights(\"./weights_b7.h5\")\n",
    "print(\"Saved model to disk\")"
   ]
  },
  {
   "cell_type": "code",
   "execution_count": null,
   "metadata": {},
   "outputs": [],
   "source": []
  }
 ],
 "metadata": {
  "kernelspec": {
   "display_name": "Python 3",
   "language": "python",
   "name": "python3"
  },
  "language_info": {
   "codemirror_mode": {
    "name": "ipython",
    "version": 3
   },
   "file_extension": ".py",
   "mimetype": "text/x-python",
   "name": "python",
   "nbconvert_exporter": "python",
   "pygments_lexer": "ipython3",
   "version": "3.6.6"
  }
 },
 "nbformat": 4,
 "nbformat_minor": 4
}

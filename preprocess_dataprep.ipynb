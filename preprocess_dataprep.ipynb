{
  "nbformat": 4,
  "nbformat_minor": 0,
  "metadata": {
    "kernelspec": {
      "display_name": "Python 3",
      "language": "python",
      "name": "python3"
    },
    "language_info": {
      "codemirror_mode": {
        "name": "ipython",
        "version": 3
      },
      "file_extension": ".py",
      "mimetype": "text/x-python",
      "name": "python",
      "nbconvert_exporter": "python",
      "pygments_lexer": "ipython3",
      "version": "3.6.6"
    },
    "colab": {
      "name": "preprocess_dataprep.ipynb",
      "provenance": [],
      "collapsed_sections": [],
      "toc_visible": true
    }
  },
  "cells": [
    {
      "cell_type": "code",
      "metadata": {
        "id": "hRwzeYYFit2o",
        "colab_type": "code",
        "colab": {}
      },
      "source": [
        "import numpy as np\n",
        "import pandas as pd\n",
        "import tensorflow\n",
        "from tensorflow import keras\n",
        "from tqdm import tqdm_notebook as tqdm\n",
        "import matplotlib.pyplot as plt\n",
        "import os\n",
        "import cv2\n"
      ],
      "execution_count": 0,
      "outputs": []
    },
    {
      "cell_type": "code",
      "metadata": {
        "id": "CU34hKFs0Vfh",
        "colab_type": "code",
        "colab": {}
      },
      "source": [
        "# !pip install kaggle\n",
        "# !ls\n",
        "!mkdir /root/.kaggle\n",
        "!mkdir .kaggle\n",
        "# !pwd"
      ],
      "execution_count": 0,
      "outputs": []
    },
    {
      "cell_type": "code",
      "metadata": {
        "id": "N_0Jdvbg0xoZ",
        "colab_type": "code",
        "colab": {}
      },
      "source": [
        "import json\n",
        "with open('./.kaggle/kaggle.json', 'w') as file:\n",
        "    json.dump(token, file)"
      ],
      "execution_count": 0,
      "outputs": []
    },
    {
      "cell_type": "code",
      "metadata": {
        "id": "ol67uLyk1Cms",
        "colab_type": "code",
        "colab": {}
      },
      "source": [
        "# with open('/content/.kaggle/kaggle.json') as json_file:\n",
        "#     data = json.load(json_file)\n",
        "#     print(data)\n",
        "\n",
        "# path = '/root/'\n",
        "# os.chdir(path)\n",
        "# !pwd\n",
        "\n",
        "!cp /content/.kaggle/kaggle.json ~/.kaggle/kaggle.json\n",
        "!kaggle config set -n path -v{/content}\n",
        "!chmod 600 /root/.kaggle/kaggle.json\n",
        "!kaggle datasets list "
      ],
      "execution_count": 0,
      "outputs": []
    },
    {
      "cell_type": "code",
      "metadata": {
        "id": "fVMzzg7C4nIx",
        "colab_type": "code",
        "colab": {}
      },
      "source": [
        "# !kaggle competitions download -c aptos2019-blindness-detection\n",
        "# !unzip {/content}/competitions/aptos2019-blindness-detection/*.zip\n",
        "# !ls"
      ],
      "execution_count": 0,
      "outputs": []
    },
    {
      "cell_type": "code",
      "metadata": {
        "id": "HiGxMAoVIE7m",
        "colab_type": "code",
        "colab": {}
      },
      "source": [
        "!kaggle datasets download -d benjaminwarner/resized-2015-2019-blindness-detection-images\n",
        "! unzip /content/{/content}/datasets/benjaminwarner/resized-2015-2019-blindness-detection-images/resized-2015-2019-blindness-detection-images.zip"
      ],
      "execution_count": 0,
      "outputs": []
    },
    {
      "cell_type": "code",
      "metadata": {
        "id": "52tWM3R9it22",
        "colab_type": "code",
        "colab": {}
      },
      "source": [
        "# train2019 = pd.read_csv('./drive/Shared drives/DL project/train.csv')\n",
        "train2019 = pd.read_csv('./labels/trainLabels19.csv')\n",
        "# Add extension to id_code\n",
        "# train2019['id_code'] = train2019['id_code'] + \".png\"\n",
        "train2019.head()\n",
        "len(train2019)\n"
      ],
      "execution_count": 0,
      "outputs": []
    },
    {
      "cell_type": "code",
      "metadata": {
        "id": "lIMlXLnJoDPd",
        "colab_type": "code",
        "colab": {}
      },
      "source": [
        "train2015 = pd.read_csv('/content/labels/trainLabels15.csv')\n",
        "train2015.head()\n",
        "print(len(train2015))"
      ],
      "execution_count": 0,
      "outputs": []
    },
    {
      "cell_type": "code",
      "metadata": {
        "id": "LkA0j4Evr_Vr",
        "colab_type": "code",
        "colab": {}
      },
      "source": [
        "test2015 = pd.read_csv('/content/labels/testLabels15.csv')\n",
        "test2015.head()\n",
        "len(test2015)"
      ],
      "execution_count": 0,
      "outputs": []
    },
    {
      "cell_type": "code",
      "metadata": {
        "id": "VcmUNt7qs9ja",
        "colab_type": "code",
        "outputId": "a5764bc0-d147-4b81-90a1-c601a84476f6",
        "colab": {
          "base_uri": "https://localhost:8080/",
          "height": 204
        }
      },
      "source": [
        "del test2015['Usage']\n",
        "test2015.head()"
      ],
      "execution_count": 0,
      "outputs": [
        {
          "output_type": "execute_result",
          "data": {
            "text/html": [
              "<div>\n",
              "<style scoped>\n",
              "    .dataframe tbody tr th:only-of-type {\n",
              "        vertical-align: middle;\n",
              "    }\n",
              "\n",
              "    .dataframe tbody tr th {\n",
              "        vertical-align: top;\n",
              "    }\n",
              "\n",
              "    .dataframe thead th {\n",
              "        text-align: right;\n",
              "    }\n",
              "</style>\n",
              "<table border=\"1\" class=\"dataframe\">\n",
              "  <thead>\n",
              "    <tr style=\"text-align: right;\">\n",
              "      <th></th>\n",
              "      <th>image</th>\n",
              "      <th>level</th>\n",
              "    </tr>\n",
              "  </thead>\n",
              "  <tbody>\n",
              "    <tr>\n",
              "      <th>0</th>\n",
              "      <td>1_left</td>\n",
              "      <td>0</td>\n",
              "    </tr>\n",
              "    <tr>\n",
              "      <th>1</th>\n",
              "      <td>1_right</td>\n",
              "      <td>0</td>\n",
              "    </tr>\n",
              "    <tr>\n",
              "      <th>2</th>\n",
              "      <td>2_left</td>\n",
              "      <td>0</td>\n",
              "    </tr>\n",
              "    <tr>\n",
              "      <th>3</th>\n",
              "      <td>2_right</td>\n",
              "      <td>0</td>\n",
              "    </tr>\n",
              "    <tr>\n",
              "      <th>4</th>\n",
              "      <td>3_left</td>\n",
              "      <td>2</td>\n",
              "    </tr>\n",
              "  </tbody>\n",
              "</table>\n",
              "</div>"
            ],
            "text/plain": [
              "     image  level\n",
              "0   1_left      0\n",
              "1  1_right      0\n",
              "2   2_left      0\n",
              "3  2_right      0\n",
              "4   3_left      2"
            ]
          },
          "metadata": {
            "tags": []
          },
          "execution_count": 10
        }
      ]
    },
    {
      "cell_type": "code",
      "metadata": {
        "id": "sKxj5zFSt8Wl",
        "colab_type": "code",
        "colab": {}
      },
      "source": [
        "train2019.columns = ['image', 'level']\n",
        "train2019.head() "
      ],
      "execution_count": 0,
      "outputs": []
    },
    {
      "cell_type": "code",
      "metadata": {
        "id": "snsxU-dFit26",
        "colab_type": "code",
        "colab": {}
      },
      "source": [
        "df = pd.concat([train2019, train2015, test2015],axis =0,ignore_index=True)\n",
        "df.head()"
      ],
      "execution_count": 0,
      "outputs": []
    },
    {
      "cell_type": "code",
      "metadata": {
        "id": "wbmBfsXsit2_",
        "colab_type": "code",
        "colab": {}
      },
      "source": [
        "print(len(df))\n",
        "df[['image', 'level']].groupby(['level']).agg(['count'])"
      ],
      "execution_count": 0,
      "outputs": []
    },
    {
      "cell_type": "code",
      "metadata": {
        "id": "XGccoiOftvnx",
        "colab_type": "code",
        "colab": {}
      },
      "source": [
        "type(train2019['level'][0])"
      ],
      "execution_count": 0,
      "outputs": []
    },
    {
      "cell_type": "code",
      "metadata": {
        "id": "9KF4INvtit3E",
        "colab_type": "code",
        "colab": {}
      },
      "source": [
        "def crop_image_from_gray(img, tol=7):\n",
        "    \"\"\"\n",
        "    Applies masks to the orignal image and \n",
        "    returns the a preprocessed image with \n",
        "    3 channels\n",
        "    \"\"\"\n",
        "    # If for some reason we only have two channels\n",
        "    if img.ndim == 2:\n",
        "        mask = img > tol\n",
        "        return img[np.ix_(mask.any(1),mask.any(0))]\n",
        "    # If we have a normal RGB images\n",
        "    elif img.ndim == 3:\n",
        "        gray_img = cv2.cvtColor(img, cv2.COLOR_RGB2GRAY)\n",
        "        mask = gray_img > tol\n",
        "        \n",
        "        check_shape = img[:,:,0][np.ix_(mask.any(1),mask.any(0))].shape[0]\n",
        "        if (check_shape == 0): # image is too dark so that we crop out everything,\n",
        "            return img # return original image\n",
        "        else:\n",
        "            img1=img[:,:,0][np.ix_(mask.any(1),mask.any(0))]\n",
        "            img2=img[:,:,1][np.ix_(mask.any(1),mask.any(0))]\n",
        "            img3=img[:,:,2][np.ix_(mask.any(1),mask.any(0))]\n",
        "            img = np.stack([img1,img2,img3],axis=-1)\n",
        "        return img"
      ],
      "execution_count": 0,
      "outputs": []
    },
    {
      "cell_type": "code",
      "metadata": {
        "id": "NE5jRmQLit3H",
        "colab_type": "code",
        "colab": {}
      },
      "source": [
        "def preprocess(img, sigmaX=10):\n",
        "    img = cv2.cvtColor(img, cv2.COLOR_BGR2RGB)\n",
        "    img = crop_image_from_gray(img)\n",
        "    img = cv2.resize(img, (IMG_WIDTH, IMG_HEIGHT))\n",
        "#     img = cv2.addWeighted (img,4, cv2.GaussianBlur(img, (0,0) ,10), -4, 128)\n",
        "    return img"
      ],
      "execution_count": 0,
      "outputs": []
    },
    {
      "cell_type": "code",
      "metadata": {
        "id": "9DwiPgd7u5DG",
        "colab_type": "code",
        "colab": {}
      },
      "source": [
        "# Specify image size\n",
        "IMG_WIDTH = 260\n",
        "IMG_HEIGHT = 260\n",
        "CHANNELS = 3"
      ],
      "execution_count": 0,
      "outputs": []
    },
    {
      "cell_type": "code",
      "metadata": {
        "id": "EJ7FM_oyit3M",
        "colab_type": "code",
        "colab": {}
      },
      "source": [
        "# for n,row in tqdm(enumerate(train2019.values),total=len(train2019)):\n",
        "#     # print(n,row)\n",
        "#     img = cv2.imread('/content/train_images/'+row[0])\n",
        "#     img = preprocess(img)\n",
        "#     # plt.imshow(img)\n",
        "\n",
        "#     cv2.imwrite('./drive/Shared drives/DL project/preprocessed_data/train260/'+row[0], cv2.cvtColor(img, cv2.COLOR_BGR2RGB))\n",
        "    "
      ],
      "execution_count": 0,
      "outputs": []
    },
    {
      "cell_type": "code",
      "metadata": {
        "id": "rnF2OfvIvke8",
        "colab_type": "code",
        "colab": {}
      },
      "source": [
        "count0=2200\n",
        "count1=2200\n",
        "count2=2200\n",
        "count3=2200\n",
        "count4=2200\n",
        "level = []\n",
        "image = []\n",
        "for n,row in tqdm(enumerate(train2019.values),total=len(train2019)):\n",
        "    # print(n,row)\n",
        "    # plt.imshow(img)\n",
        "    if row[1] == 0 and count0 != 0:\n",
        "      img = cv2.imread('./resized train 19/'+row[0]+'.jpg')\n",
        "      img = preprocess(img)\n",
        "      count0 = count0 - 1\n",
        "      image.append(row[0])\n",
        "      level.append(row[1])\n",
        "      cv2.imwrite('./drive/Shared drives/DL project/agg/260/'+row[0]+'.jpg', cv2.cvtColor(img, cv2.COLOR_BGR2RGB))\n",
        "    elif row[1] == 1 and count1 != 0:\n",
        "      img = cv2.imread('./resized train 19/'+row[0]+'.jpg')\n",
        "      img = preprocess(img)\n",
        "      count1 = count1 - 1\n",
        "      image.append(row[0])\n",
        "      level.append(row[1])\n",
        "      cv2.imwrite('./drive/Shared drives/DL project/agg/260/'+row[0]+'.jpg', cv2.cvtColor(img, cv2.COLOR_BGR2RGB))\n",
        "    elif row[1] == 2 and count2 != 0:\n",
        "      img = cv2.imread('./resized train 19/'+row[0]+'.jpg')\n",
        "      img = preprocess(img)\n",
        "      count2 = count2 - 1\n",
        "      image.append(row[0])\n",
        "      level.append(row[1])\n",
        "      cv2.imwrite('./drive/Shared drives/DL project/agg/260/'+row[0]+'.jpg', cv2.cvtColor(img, cv2.COLOR_BGR2RGB))\n",
        "    elif row[1] == 3 and count3 != 0:\n",
        "      img = cv2.imread('./resized train 19/'+row[0]+'.jpg')\n",
        "      img = preprocess(img)\n",
        "      count3 = count3 - 1\n",
        "      image.append(row[0])\n",
        "      level.append(row[1])\n",
        "      cv2.imwrite('./drive/Shared drives/DL project/agg/260/'+row[0]+'.jpg', cv2.cvtColor(img, cv2.COLOR_BGR2RGB))\n",
        "    elif row[1] == 4 and count4 != 0:\n",
        "      img = cv2.imread('./resized train 19/'+row[0]+'.jpg')\n",
        "      img = preprocess(img)\n",
        "      count4 = count4 - 1\n",
        "      image.append(row[0])\n",
        "      level.append(row[1])\n",
        "      cv2.imwrite('./drive/Shared drives/DL project/agg/260/'+row[0]+'.jpg', cv2.cvtColor(img, cv2.COLOR_BGR2RGB))\n",
        "\n",
        "for n,row in tqdm(enumerate(train2015.values),total=len(train2015)):\n",
        "    # print(n,row)\n",
        "    # plt.imshow(img)\n",
        "    if row[1] == 0 and count0 != 0:\n",
        "      img = cv2.imread('./resized train 15/'+row[0]+'.jpg')\n",
        "      img = preprocess(img)\n",
        "      count0 = count0 - 1\n",
        "      image.append(row[0])\n",
        "      level.append(row[1])\n",
        "      cv2.imwrite('./drive/Shared drives/DL project/agg/260/'+row[0]+'.jpg', cv2.cvtColor(img, cv2.COLOR_BGR2RGB))\n",
        "    elif row[1] == 1 and count1 != 0:\n",
        "      img = cv2.imread('./resized train 15/'+row[0]+'.jpg')\n",
        "      img = preprocess(img)\n",
        "      count1 = count1 - 1\n",
        "      image.append(row[0])\n",
        "      level.append(row[1])\n",
        "      cv2.imwrite('./drive/Shared drives/DL project/agg/260/'+row[0]+'.jpg', cv2.cvtColor(img, cv2.COLOR_BGR2RGB))\n",
        "    elif row[1] == 2 and count2 != 0:\n",
        "      img = cv2.imread('./resized train 15/'+row[0]+'.jpg')\n",
        "      img = preprocess(img)\n",
        "      count2 = count2 - 1\n",
        "      image.append(row[0])\n",
        "      level.append(row[1])\n",
        "      cv2.imwrite('./drive/Shared drives/DL project/agg/260/'+row[0]+'.jpg', cv2.cvtColor(img, cv2.COLOR_BGR2RGB))\n",
        "    elif row[1] == 3 and count3 != 0:\n",
        "      img = cv2.imread('./resized train 15/'+row[0]+'.jpg')\n",
        "      img = preprocess(img)\n",
        "      count3 = count3 - 1\n",
        "      image.append(row[0])\n",
        "      level.append(row[1])\n",
        "      cv2.imwrite('./drive/Shared drives/DL project/agg/260/'+row[0]+'.jpg', cv2.cvtColor(img, cv2.COLOR_BGR2RGB))\n",
        "    elif row[1] == 4 and count4 != 0:\n",
        "      img = cv2.imread('./resized train 15/'+row[0]+'.jpg')\n",
        "      img = preprocess(img)\n",
        "      count4 = count4 - 1\n",
        "      image.append(row[0])\n",
        "      level.append(row[1])\n",
        "      cv2.imwrite('./drive/Shared drives/DL project/agg/260/'+row[0]+'.jpg', cv2.cvtColor(img, cv2.COLOR_BGR2RGB))\n",
        "\n",
        "\n",
        "for n,row in tqdm(enumerate(test2015.values),total=len(test2015)):\n",
        "    # print(n,row)\n",
        "    # plt.imshow(img)\n",
        "    if row[1] == 0 and count0 != 0:\n",
        "      img = cv2.imread('./resized test 15/'+row[0]+'.jpg')\n",
        "      img = preprocess(img)\n",
        "      count0 = count0 - 1\n",
        "      image.append(row[0])\n",
        "      level.append(row[1])\n",
        "      cv2.imwrite('./drive/Shared drives/DL project/agg/260/'+row[0]+'.jpg', cv2.cvtColor(img, cv2.COLOR_BGR2RGB))\n",
        "    elif row[1] == 1 and count1 != 0:\n",
        "      img = cv2.imread('./resized test 15/'+row[0]+'.jpg')\n",
        "      img = preprocess(img)\n",
        "      count1 = count1 - 1\n",
        "      image.append(row[0])\n",
        "      level.append(row[1])\n",
        "      cv2.imwrite('./drive/Shared drives/DL project/agg/260/'+row[0]+'.jpg', cv2.cvtColor(img, cv2.COLOR_BGR2RGB))\n",
        "    elif row[1] == 2 and count2 != 0:\n",
        "      img = cv2.imread('./resized test 15/'+row[0]+'.jpg')\n",
        "      img = preprocess(img)\n",
        "      count2 = count2 - 1\n",
        "      image.append(row[0])\n",
        "      level.append(row[1])\n",
        "      cv2.imwrite('./drive/Shared drives/DL project/agg/260/'+row[0]+'.jpg', cv2.cvtColor(img, cv2.COLOR_BGR2RGB))\n",
        "    elif row[1] == 3 and count3 != 0:\n",
        "      img = cv2.imread('./resized test 15/'+row[0]+'.jpg')\n",
        "      img = preprocess(img)\n",
        "      count3 = count3 - 1\n",
        "      image.append(row[0])\n",
        "      level.append(row[1])\n",
        "      cv2.imwrite('./drive/Shared drives/DL project/agg/260/'+row[0]+'.jpg', cv2.cvtColor(img, cv2.COLOR_BGR2RGB))\n",
        "    elif row[1] == 4 and count4 != 0:\n",
        "      img = cv2.imread('./resized test 15/'+row[0]+'.jpg')\n",
        "      img = preprocess(img)\n",
        "      count4 = count4 - 1\n",
        "      image.append(row[0])\n",
        "      level.append(row[1])\n",
        "      cv2.imwrite('./drive/Shared drives/DL project/agg/260/'+row[0]+'.jpg', cv2.cvtColor(img, cv2.COLOR_BGR2RGB))\n",
        "    "
      ],
      "execution_count": 0,
      "outputs": []
    },
    {
      "cell_type": "code",
      "metadata": {
        "id": "fL0BmWTWzIpc",
        "colab_type": "code",
        "colab": {}
      },
      "source": [
        "df260 = pd.DataFrame(list(zip(image, level)), columns =['image', 'level']) \n",
        "df260.head()\n",
        "print(len(df260))\n",
        "df260.to_csv('./drive/Shared drives/DL project/agg/agg260.csv') "
      ],
      "execution_count": 0,
      "outputs": []
    },
    {
      "cell_type": "code",
      "metadata": {
        "id": "brVzsD1-Dccb",
        "colab_type": "code",
        "colab": {}
      },
      "source": [
        "from google.colab import drive\n",
        "drive.mount('/content/drive')"
      ],
      "execution_count": 0,
      "outputs": []
    },
    {
      "cell_type": "code",
      "metadata": {
        "id": "PnAHnhLdq94-",
        "colab_type": "code",
        "colab": {}
      },
      "source": [
        "train19 = pd.read_csv('./trainLabels19.csv')\n",
        "train19.head()"
      ],
      "execution_count": 0,
      "outputs": []
    },
    {
      "cell_type": "code",
      "metadata": {
        "id": "kCwiTNnGit3Y",
        "colab_type": "code",
        "colab": {}
      },
      "source": [
        "img = cv2.imread('./drive/Shared drives/DL project/agg/224/'+train19['id_code'][20]+'.jpg')\n",
        "plt.imshow(img)"
      ],
      "execution_count": 0,
      "outputs": []
    },
    {
      "cell_type": "code",
      "metadata": {
        "id": "leEGSjVDq5O7",
        "colab_type": "code",
        "colab": {}
      },
      "source": [
        "img = cv2.cvtColor(img, cv2.COLOR_BGR2RGB)\n",
        "flip1 = cv2.flip(img, 1)\n",
        "flip2 = cv2.flip(img, -1)\n",
        "flip3 = cv2.flip(img, 0)\n",
        "plt.imshow(img)"
      ],
      "execution_count": 0,
      "outputs": []
    },
    {
      "cell_type": "code",
      "metadata": {
        "id": "YmzYB0TgfCjK",
        "colab_type": "code",
        "colab": {}
      },
      "source": [
        "blur5 = cv2.GaussianBlur(img,(5,5),0)\n",
        "blur3 = cv2.GaussianBlur(img,(3,3),0)\n",
        "# plt.imshow(blur)\n",
        "cv2.imwrite('./blur5',blur5)\n",
        "cv2.imwrite('./blur3',blur3)\n",
        "cv2.imwrite('./original',img)\n",
        "cv2.imwrite('./flip1',flip1)\n",
        "cv2.imwrite('./flip2',flip2)\n",
        "cv2.imwrite('./flip3',flip3)\n",
        "# cv2.imwrite('./drive/Shared drives/DL project/agg/260/'+row[0]+'.jpg', cv2.cvtColor(img, cv2.COLOR_BGR2RGB))\n",
        "# cv2.imwrite('./blur5',rot)"
      ],
      "execution_count": 0,
      "outputs": []
    },
    {
      "cell_type": "code",
      "metadata": {
        "id": "pDrB1ZBufHK8",
        "colab_type": "code",
        "colab": {}
      },
      "source": [
        "cols = img.shape[1]\n",
        "rows = img.shape[0]\n",
        "M1 = cv2.getRotationMatrix2D((cols/2,rows/2),60,1)\n",
        "rot60 = cv2.warpAffine(img,M1,(cols,rows))    \n",
        "M2 = cv2.getRotationMatrix2D((cols/2,rows/2),45,1)\n",
        "rot45 = cv2.warpAffine(img,M2,(cols,rows))    \n",
        "M3 = cv2.getRotationMatrix2D((cols/2,rows/2),30,1)\n",
        "rot30 = cv2.warpAffine(img,M3,(cols,rows))\n",
        "plt.imshow(rot60)"
      ],
      "execution_count": 0,
      "outputs": []
    }
  ]
}